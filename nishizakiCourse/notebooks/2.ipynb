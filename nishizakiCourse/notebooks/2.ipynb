{
 "cells": [
  {
   "cell_type": "markdown",
   "metadata": {
    "id": "sA0u263WSnAo"
   },
   "source": [
    "1. Calculate the sum of numbers from 1 to N using loops."
   ]
  },
  {
   "cell_type": "code",
   "execution_count": 4,
   "metadata": {
    "colab": {
     "base_uri": "https://localhost:8080/"
    },
    "id": "ISH1PcS2zlnh",
    "outputId": "8e006edd-c322-41cb-e5f4-a429b7db651e"
   },
   "outputs": [
    {
     "name": "stdout",
     "output_type": "stream",
     "text": [
      "Sum of numbers from 1 to 5 = 15\n"
     ]
    }
   ],
   "source": [
    "# Input from user\n",
    "N = int(input(\"Enter a natural number (N): \"))\n",
    "\n",
    "# Initialize sum\n",
    "total = 0\n",
    "\n",
    "# Loop from 1 to N\n",
    "for i in range(1, N + 1):\n",
    "    total += i\n",
    "\n",
    "print(f\"Sum of numbers from 1 to {N} = {total}\")"
   ]
  },
  {
   "cell_type": "markdown",
   "metadata": {
    "id": "yjCVZmT7THNe"
   },
   "source": [
    "2. Compute average and variance of user-input numbers (stop at 0)."
   ]
  },
  {
   "cell_type": "code",
   "execution_count": null,
   "metadata": {
    "colab": {
     "base_uri": "https://localhost:8080/"
    },
    "id": "eEHMWnpXTJHM",
    "outputId": "c1991d60-6979-4b76-a3dd-8666233bc706"
   },
   "outputs": [
    {
     "name": "stdout",
     "output_type": "stream",
     "text": [
      "Numbers: [1. 2. 3. 4. 6. 9.]\n",
      "Average = 4.17, Variance = 7.14\n"
     ]
    }
   ],
   "source": [
    "%pip install numpy\n",
    "import numpy as np\n",
    "\n",
    "numbers = []\n",
    "while True:\n",
    "    num = float(input(\"Enter a number (0 to stop): \"))\n",
    "    if num == 0:\n",
    "        break\n",
    "    numbers.append(num)\n",
    "\n",
    "# Convert to NumPy array\n",
    "np_numbers = np.array(numbers)\n",
    "\n",
    "# Compute stats\n",
    "avg = np.average(np_numbers)\n",
    "variance = np.var(np_numbers)\n",
    "\n",
    "print(f\"Numbers: {np_numbers}\")\n",
    "print(f\"Average = {avg:.2f}, Variance = {variance:.2f}\")"
   ]
  },
  {
   "cell_type": "markdown",
   "metadata": {
    "id": "8wKpp4zzXKAg"
   },
   "source": [
    "3. Implement a bank account with deposit/withdraw methods."
   ]
  },
  {
   "cell_type": "code",
   "execution_count": 1,
   "metadata": {
    "colab": {
     "base_uri": "https://localhost:8080/"
    },
    "id": "b3NXO8wdXTcA",
    "outputId": "7fd4ce25-1941-49ad-c854-b317c0a7a5ab"
   },
   "outputs": [
    {
     "name": "stdout",
     "output_type": "stream",
     "text": [
      "Current balance: $1000\n",
      "Deposited $500. New balance: $1500\n",
      "Withdrew $200. New balance: $1300\n",
      "Error: Insufficient funds!\n",
      "Current balance: $1300\n"
     ]
    }
   ],
   "source": [
    "class BankAccount:\n",
    "    def __init__(self, account_number, name, balance=0):\n",
    "        self.account_number = account_number\n",
    "        self.name = name\n",
    "        self.balance = balance\n",
    "\n",
    "    def deposit(self, amount):\n",
    "        self.balance += amount\n",
    "        print(f\"Deposited ${amount}. New balance: ${self.balance}\")\n",
    "\n",
    "    def withdraw(self, amount):\n",
    "        if amount > self.balance:\n",
    "            print(\"Error: Insufficient funds!\")\n",
    "        else:\n",
    "            self.balance -= amount\n",
    "            print(f\"Withdrew ${amount}. New balance: ${self.balance}\")\n",
    "\n",
    "    def get_balance(self):\n",
    "        print(f\"Current balance: ${self.balance}\")\n",
    "\n",
    "# Example usage\n",
    "account = BankAccount(\"1234567\", \"Alice\", 1000)\n",
    "account.get_balance()  # Checks balance\n",
    "account.deposit(500)  # Deposits $500\n",
    "account.withdraw(200)  # Withdraws $200\n",
    "account.withdraw(2000) # Fails (insufficient funds)\n",
    "account.get_balance()  # Checks balance"
   ]
  },
  {
   "cell_type": "markdown",
   "metadata": {
    "id": "19F5EdOTaO0J"
   },
   "source": [
    "4. Count word frequencies in words.txt using collections.Counter"
   ]
  },
  {
   "cell_type": "code",
   "execution_count": 3,
   "metadata": {
    "colab": {
     "base_uri": "https://localhost:8080/"
    },
    "id": "JNIMoHw6aRf7",
    "outputId": "a2edc924-7c47-461e-af64-96248382a806"
   },
   "outputs": [
    {
     "name": "stdout",
     "output_type": "stream",
     "text": [
      "Top 10 words:\n",
      "sit: 3 times\n",
      "eget: 3 times\n",
      "fringilla: 3 times\n",
      "elit.: 2 times\n",
      "vel: 2 times\n",
      "nisi: 2 times\n",
      "ornare: 2 times\n",
      "amet: 2 times\n",
      "ultrices: 2 times\n",
      "justo: 2 times\n"
     ]
    }
   ],
   "source": [
    "from collections import Counter\n",
    "\n",
    "# Upload 'words.txt' to Colab first\n",
    "with open('../data/loremIpsum.txt', 'r') as file:\n",
    "    words = file.read().split()  # Split text into words\n",
    "\n",
    "word_counts = Counter(words)\n",
    "top_10 = word_counts.most_common(10)\n",
    "\n",
    "print(\"Top 10 words:\")\n",
    "for word, count in top_10:\n",
    "    print(f\"{word}: {count} times\")"
   ]
  },
  {
   "cell_type": "markdown",
   "metadata": {
    "id": "mzSXJ8MBiJnq"
   },
   "source": [
    "5. Compute mean, standard deviation, and inverse of a 4x4 matrix."
   ]
  },
  {
   "cell_type": "code",
   "execution_count": 4,
   "metadata": {
    "colab": {
     "base_uri": "https://localhost:8080/"
    },
    "id": "brf0cTsgiLtk",
    "outputId": "b9e8dc12-0b0b-4a75-9495-f34c982a11d7"
   },
   "outputs": [
    {
     "name": "stdout",
     "output_type": "stream",
     "text": [
      "Mean Matrix1: 8.50\n",
      "Standard Deviation Matrix1: 4.61\n",
      "Inverse Matrix2:\n",
      " [[1.         0.         0.         0.        ]\n",
      " [0.         0.5        0.         0.        ]\n",
      " [0.         0.         0.33333333 0.        ]\n",
      " [0.         0.         0.         0.25      ]]\n"
     ]
    }
   ],
   "source": [
    "import numpy as np\n",
    "\n",
    "# Sample 4x4 matrix (replace with your data)\n",
    "matrix = np.array([\n",
    "    [1, 2, 3, 4],\n",
    "    [5, 6, 7, 8],\n",
    "    [9, 10, 11, 12],\n",
    "    [13, 14, 15, 16]\n",
    "])\n",
    "\n",
    "matrix2 = np.array([\n",
    "    [1, 0, 0, 0],\n",
    "    [0, 2, 0, 0],\n",
    "    [0, 0, 3, 0],\n",
    "    [0, 0, 0, 4]\n",
    "])\n",
    "\n",
    "# Calculations\n",
    "mean = np.mean(matrix)\n",
    "std_dev = np.std(matrix)\n",
    "inverse = np.linalg.inv(matrix2)  # Will fail if matrix is singular (det=0)\n",
    "\n",
    "print(f\"Mean Matrix1: {mean:.2f}\")\n",
    "print(f\"Standard Deviation Matrix1: {std_dev:.2f}\")\n",
    "print(\"Inverse Matrix2:\\n\", inverse)"
   ]
  }
 ],
 "metadata": {
  "colab": {
   "gpuType": "T4",
   "provenance": []
  },
  "kernelspec": {
   "display_name": "Python 3",
   "language": "python",
   "name": "python3"
  },
  "language_info": {
   "codemirror_mode": {
    "name": "ipython",
    "version": 3
   },
   "file_extension": ".py",
   "mimetype": "text/x-python",
   "name": "python",
   "nbconvert_exporter": "python",
   "pygments_lexer": "ipython3",
   "version": "3.9.6"
  }
 },
 "nbformat": 4,
 "nbformat_minor": 4
}
