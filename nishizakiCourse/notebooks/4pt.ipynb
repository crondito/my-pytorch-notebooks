{
 "cells": [
  {
   "cell_type": "markdown",
   "id": "2f5fad43-362d-4e88-8fe8-9e28218f1cd3",
   "metadata": {},
   "source": [
    "Train a neural network that takes a 4-bit input (e.g., [1, 0, 1, 1]) and outputs a one-hot encoded vector representing the number of 1s (from 0 to 4). There are 5 possible output classes."
   ]
  },
  {
   "cell_type": "code",
   "execution_count": 3,
   "id": "3417b712-5daa-4868-9fe4-abfd081a5acf",
   "metadata": {},
   "outputs": [
    {
     "name": "stdout",
     "output_type": "stream",
     "text": [
      "Defaulting to user installation because normal site-packages is not writeable\n",
      "Requirement already satisfied: torch in /Users/carlos/Library/Python/3.9/lib/python/site-packages (2.7.1)\n",
      "Requirement already satisfied: filelock in /Users/carlos/Library/Python/3.9/lib/python/site-packages (from torch) (3.18.0)\n",
      "Requirement already satisfied: typing-extensions>=4.10.0 in /Users/carlos/Library/Python/3.9/lib/python/site-packages (from torch) (4.14.0)\n",
      "Requirement already satisfied: sympy>=1.13.3 in /Users/carlos/Library/Python/3.9/lib/python/site-packages (from torch) (1.14.0)\n",
      "Requirement already satisfied: networkx in /Users/carlos/Library/Python/3.9/lib/python/site-packages (from torch) (3.2.1)\n",
      "Requirement already satisfied: jinja2 in /Users/carlos/Library/Python/3.9/lib/python/site-packages (from torch) (3.1.6)\n",
      "Requirement already satisfied: fsspec in /Users/carlos/Library/Python/3.9/lib/python/site-packages (from torch) (2025.5.1)\n",
      "Requirement already satisfied: mpmath<1.4,>=1.1.0 in /Users/carlos/Library/Python/3.9/lib/python/site-packages (from sympy>=1.13.3->torch) (1.3.0)\n",
      "Requirement already satisfied: MarkupSafe>=2.0 in /Users/carlos/Library/Python/3.9/lib/python/site-packages (from jinja2->torch) (3.0.2)\n",
      "Note: you may need to restart the kernel to use updated packages.\n",
      "Accuracy: 100.00%\n",
      "Input: [0. 0. 0. 0.] → Predicted count: 0, Actual: 0\n",
      "Input: [0. 0. 0. 1.] → Predicted count: 1, Actual: 1\n",
      "Input: [0. 0. 1. 0.] → Predicted count: 1, Actual: 1\n",
      "Input: [0. 0. 1. 1.] → Predicted count: 2, Actual: 2\n",
      "Input: [0. 1. 0. 0.] → Predicted count: 1, Actual: 1\n",
      "Input: [0. 1. 0. 1.] → Predicted count: 2, Actual: 2\n",
      "Input: [0. 1. 1. 0.] → Predicted count: 2, Actual: 2\n",
      "Input: [0. 1. 1. 1.] → Predicted count: 3, Actual: 3\n",
      "Input: [1. 0. 0. 0.] → Predicted count: 1, Actual: 1\n",
      "Input: [1. 0. 0. 1.] → Predicted count: 2, Actual: 2\n",
      "Input: [1. 0. 1. 0.] → Predicted count: 2, Actual: 2\n",
      "Input: [1. 0. 1. 1.] → Predicted count: 3, Actual: 3\n",
      "Input: [1. 1. 0. 0.] → Predicted count: 2, Actual: 2\n",
      "Input: [1. 1. 0. 1.] → Predicted count: 3, Actual: 3\n",
      "Input: [1. 1. 1. 0.] → Predicted count: 3, Actual: 3\n",
      "Input: [1. 1. 1. 1.] → Predicted count: 4, Actual: 4\n"
     ]
    }
   ],
   "source": [
    "%pip install torch\n",
    "import torch\n",
    "import torch.nn as nn\n",
    "import torch.nn.functional as F\n",
    "from torch.utils.data import TensorDataset, DataLoader\n",
    "\n",
    "# Generate all 4-bit combinations (from 0000 to 1111)\n",
    "trainx = torch.tensor([[int(b) for b in format(i, '04b')] for i in range(16)], dtype=torch.float32)\n",
    "\n",
    "# Count the number of 1's in each combination\n",
    "trainy = torch.tensor([int(x.sum().item()) for x in trainx], dtype=torch.long)  # long for class indices\n",
    "\n",
    "# One-hot encoding is not needed as CrossEntropyLoss expects class indices\n",
    "\n",
    "# Dataset and DataLoader\n",
    "dataset = TensorDataset(trainx, trainy)\n",
    "loader = DataLoader(dataset, batch_size=4, shuffle=True)\n",
    "\n",
    "# Define the model\n",
    "class Net(nn.Module):\n",
    "    def __init__(self):\n",
    "        super().__init__()\n",
    "        self.fc1 = nn.Linear(4, 10)\n",
    "        self.fc2 = nn.Linear(10, 10)\n",
    "        self.fc3 = nn.Linear(10, 5)  # 5 output classes\n",
    "\n",
    "    def forward(self, x):\n",
    "        x = F.relu(self.fc1(x))\n",
    "        x = F.relu(self.fc2(x))\n",
    "        return self.fc3(x)  # No softmax needed — CrossEntropyLoss does that\n",
    "\n",
    "model = Net()\n",
    "\n",
    "# Optimizer and loss\n",
    "optimizer = torch.optim.Adam(model.parameters(), lr=0.01)\n",
    "loss_fn = nn.CrossEntropyLoss()\n",
    "\n",
    "# Train the model\n",
    "for epoch in range(1000):\n",
    "    for xb, yb in loader:\n",
    "        preds = model(xb)\n",
    "        loss = loss_fn(preds, yb)\n",
    "\n",
    "        optimizer.zero_grad()\n",
    "        loss.backward()\n",
    "        optimizer.step()\n",
    "\n",
    "# Evaluate accuracy\n",
    "with torch.no_grad():\n",
    "    preds = model(trainx)\n",
    "    predicted_classes = preds.argmax(dim=1)\n",
    "    accuracy = (predicted_classes == trainy).float().mean()\n",
    "    print(f\"Accuracy: {accuracy.item() * 100:.2f}%\")\n",
    "\n",
    "# Show predictions\n",
    "for i in range(len(trainx)):\n",
    "    print(f\"Input: {trainx[i].numpy()} → Predicted count: {predicted_classes[i].item()}, Actual: {trainy[i].item()}\")\n"
   ]
  }
 ],
 "metadata": {
  "kernelspec": {
   "display_name": "Python 3",
   "language": "python",
   "name": "python3"
  },
  "language_info": {
   "codemirror_mode": {
    "name": "ipython",
    "version": 3
   },
   "file_extension": ".py",
   "mimetype": "text/x-python",
   "name": "python",
   "nbconvert_exporter": "python",
   "pygments_lexer": "ipython3",
   "version": "3.9.6"
  }
 },
 "nbformat": 4,
 "nbformat_minor": 5
}
