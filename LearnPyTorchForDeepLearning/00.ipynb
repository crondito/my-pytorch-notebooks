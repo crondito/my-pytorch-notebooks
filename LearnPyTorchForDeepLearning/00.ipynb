{
 "cells": [
  {
   "cell_type": "markdown",
   "id": "0a92c4d3",
   "metadata": {},
   "source": [
    "# PyTorch Fundamentals"
   ]
  },
  {
   "cell_type": "markdown",
   "id": "1e8c2e5e",
   "metadata": {},
   "source": [
    "### How to import Pytorch:"
   ]
  },
  {
   "cell_type": "code",
   "execution_count": 61,
   "id": "9ec3e8a3",
   "metadata": {},
   "outputs": [
    {
     "data": {
      "text/plain": [
       "'2.7.1'"
      ]
     },
     "execution_count": 61,
     "metadata": {},
     "output_type": "execute_result"
    }
   ],
   "source": [
    "import torch\n",
    "torch.__version__"
   ]
  },
  {
   "cell_type": "markdown",
   "id": "51fdefdb",
   "metadata": {},
   "source": [
    "## Tensors\n",
    "\n",
    "A **tensor** is a generalization of scalars, vectors, and matrices:\n",
    "\n",
    "| Tensor Type | Description              | Example Shape |\n",
    "|-------------|--------------------------|---------------|\n",
    "| Scalar      | Single number            | `()`          |\n",
    "| Vector      | 1D array of numbers      | `(n,)`        |\n",
    "| Matrix      | 2D array of numbers      | `(m, n)`      |\n",
    "| Tensor      | N-dimensional array      | `(d1, d2, ..., dn)` |\n",
    "\n",
    "Tensors can be **1D, 2D, 3D, or higher-dimensional** arrays used to represent data in machine learning and deep learning.\n",
    "\n",
    "<img src=\"imgs/scalar-vector-matrix-tensor.png\" alt=\"Tensor visualization\" width=\"600\"/>\n",
    "\n",
    "<img src=\"imgs/scalar-vector-matrix-tensor2.png\" alt=\"Tensor visualization\" width=\"600\"/>"
   ]
  },
  {
   "cell_type": "markdown",
   "id": "b1bac77d",
   "metadata": {},
   "source": [
    "### Creating Tensors"
   ]
  },
  {
   "cell_type": "code",
   "execution_count": 62,
   "id": "f8dac84c",
   "metadata": {},
   "outputs": [
    {
     "data": {
      "text/plain": [
       "tensor(7)"
      ]
     },
     "execution_count": 62,
     "metadata": {},
     "output_type": "execute_result"
    }
   ],
   "source": [
    "# Scalar\n",
    "scalar = torch.tensor(7)\n",
    "scalar"
   ]
  },
  {
   "cell_type": "code",
   "execution_count": 63,
   "id": "bfc7e868",
   "metadata": {},
   "outputs": [
    {
     "data": {
      "text/plain": [
       "tensor([7, 7])"
      ]
     },
     "execution_count": 63,
     "metadata": {},
     "output_type": "execute_result"
    }
   ],
   "source": [
    "# Vector\n",
    "vector = torch.tensor([7, 7])\n",
    "vector"
   ]
  },
  {
   "cell_type": "code",
   "execution_count": 64,
   "id": "1226cc33",
   "metadata": {},
   "outputs": [
    {
     "data": {
      "text/plain": [
       "tensor([[ 7,  8],\n",
       "        [ 9, 10]])"
      ]
     },
     "execution_count": 64,
     "metadata": {},
     "output_type": "execute_result"
    }
   ],
   "source": [
    "# Matrix\n",
    "MATRIX = torch.tensor([[7, 8], \n",
    "                       [9, 10]])\n",
    "MATRIX"
   ]
  },
  {
   "cell_type": "code",
   "execution_count": 65,
   "id": "9d27028a",
   "metadata": {},
   "outputs": [
    {
     "data": {
      "text/plain": [
       "tensor([[[1, 2, 3],\n",
       "         [3, 6, 9],\n",
       "         [2, 4, 5]]])"
      ]
     },
     "execution_count": 65,
     "metadata": {},
     "output_type": "execute_result"
    }
   ],
   "source": [
    "# Tensor\n",
    "TENSOR = torch.tensor([[[1, 2, 3],\n",
    "                        [3, 6, 9],\n",
    "                        [2, 4, 5]]])\n",
    "TENSOR"
   ]
  },
  {
   "cell_type": "markdown",
   "id": "2dc411f6",
   "metadata": {},
   "source": [
    "## Random tensors\n",
    "\n",
    "In PyTorch, you usually don’t manually create tensors.\n",
    "Instead, models begin with random tensors that get updated as they learn from data.\n",
    "\n",
    "> Start with random numbers → Look at data → Update numbers → Repeat\n",
    "\n",
    "As a data scientist, you control:\n",
    "- Initialization (how the model starts),\n",
    "- Representation (how it processes data),\n",
    "- Optimization (how it updates).\n",
    "\n",
    "To create a random tensor in PyTorch, use:"
   ]
  },
  {
   "cell_type": "code",
   "execution_count": 66,
   "id": "6e07b249",
   "metadata": {},
   "outputs": [
    {
     "data": {
      "text/plain": [
       "(tensor([[0.2384, 0.4453, 0.0868, 0.5010],\n",
       "         [0.8534, 0.1092, 0.6713, 0.2108],\n",
       "         [0.2463, 0.3501, 0.8430, 0.1664]]),\n",
       " torch.float32)"
      ]
     },
     "execution_count": 66,
     "metadata": {},
     "output_type": "execute_result"
    }
   ],
   "source": [
    "# Create a random tensor of size (3, 4)\n",
    "random_tensor = torch.rand(size=(3, 4))\n",
    "random_tensor, random_tensor.dtype"
   ]
  }
 ],
 "metadata": {
  "kernelspec": {
   "display_name": "Python 3",
   "language": "python",
   "name": "python3"
  },
  "language_info": {
   "codemirror_mode": {
    "name": "ipython",
    "version": 3
   },
   "file_extension": ".py",
   "mimetype": "text/x-python",
   "name": "python",
   "nbconvert_exporter": "python",
   "pygments_lexer": "ipython3",
   "version": "3.9.6"
  }
 },
 "nbformat": 4,
 "nbformat_minor": 5
}
