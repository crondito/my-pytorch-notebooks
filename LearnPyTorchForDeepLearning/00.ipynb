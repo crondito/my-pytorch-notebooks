{
 "cells": [
  {
   "cell_type": "markdown",
   "id": "0a92c4d3",
   "metadata": {},
   "source": [
    "# PyTorch Fundamentals"
   ]
  },
  {
   "cell_type": "markdown",
   "id": "1e8c2e5e",
   "metadata": {},
   "source": [
    "### How to import Pytorch:"
   ]
  },
  {
   "cell_type": "code",
   "execution_count": 311,
   "id": "9ec3e8a3",
   "metadata": {},
   "outputs": [
    {
     "data": {
      "text/plain": [
       "'2.7.1'"
      ]
     },
     "execution_count": 311,
     "metadata": {},
     "output_type": "execute_result"
    }
   ],
   "source": [
    "import torch\n",
    "torch.__version__"
   ]
  },
  {
   "cell_type": "markdown",
   "id": "51fdefdb",
   "metadata": {},
   "source": [
    "## Tensors\n",
    "\n",
    "A **tensor** is a generalization of scalars, vectors, and matrices:\n",
    "\n",
    "| Tensor Type | Description              | Example Shape |\n",
    "|-------------|--------------------------|---------------|\n",
    "| Scalar      | Single number            | `()`          |\n",
    "| Vector      | 1D array of numbers      | `(n,)`        |\n",
    "| Matrix      | 2D array of numbers      | `(m, n)`      |\n",
    "| Tensor      | N-dimensional array      | `(d1, d2, ..., dn)` |\n",
    "\n",
    "Tensors can be **1D, 2D, 3D, or higher-dimensional** arrays used to represent data in machine learning and deep learning.\n",
    "\n",
    "<img src=\"imgs/scalar-vector-matrix-tensor.png\" alt=\"Tensor visualization\" width=\"600\"/>\n",
    "\n",
    "<img src=\"imgs/scalar-vector-matrix-tensor2.png\" alt=\"Tensor visualization\" width=\"600\"/>"
   ]
  },
  {
   "cell_type": "markdown",
   "id": "b1bac77d",
   "metadata": {},
   "source": [
    "### Creating Tensors"
   ]
  },
  {
   "cell_type": "code",
   "execution_count": 312,
   "id": "f8dac84c",
   "metadata": {},
   "outputs": [
    {
     "data": {
      "text/plain": [
       "tensor(7)"
      ]
     },
     "execution_count": 312,
     "metadata": {},
     "output_type": "execute_result"
    }
   ],
   "source": [
    "# Scalar\n",
    "scalar = torch.tensor(7)\n",
    "scalar"
   ]
  },
  {
   "cell_type": "code",
   "execution_count": 313,
   "id": "bfc7e868",
   "metadata": {},
   "outputs": [
    {
     "data": {
      "text/plain": [
       "tensor([7, 7])"
      ]
     },
     "execution_count": 313,
     "metadata": {},
     "output_type": "execute_result"
    }
   ],
   "source": [
    "# Vector\n",
    "vector = torch.tensor([7, 7])\n",
    "vector"
   ]
  },
  {
   "cell_type": "code",
   "execution_count": 314,
   "id": "1226cc33",
   "metadata": {},
   "outputs": [
    {
     "data": {
      "text/plain": [
       "tensor([[ 7,  8],\n",
       "        [ 9, 10]])"
      ]
     },
     "execution_count": 314,
     "metadata": {},
     "output_type": "execute_result"
    }
   ],
   "source": [
    "# Matrix\n",
    "MATRIX = torch.tensor([[7, 8], \n",
    "                       [9, 10]])\n",
    "MATRIX"
   ]
  },
  {
   "cell_type": "code",
   "execution_count": 315,
   "id": "9d27028a",
   "metadata": {},
   "outputs": [
    {
     "data": {
      "text/plain": [
       "tensor([[[1, 2, 3],\n",
       "         [3, 6, 9],\n",
       "         [2, 4, 5]]])"
      ]
     },
     "execution_count": 315,
     "metadata": {},
     "output_type": "execute_result"
    }
   ],
   "source": [
    "# Tensor\n",
    "TENSOR = torch.tensor([[[1, 2, 3],\n",
    "                        [3, 6, 9],\n",
    "                        [2, 4, 5]]])\n",
    "TENSOR"
   ]
  },
  {
   "cell_type": "markdown",
   "id": "2dc411f6",
   "metadata": {},
   "source": [
    "### Random tensors\n",
    "\n",
    "In PyTorch, you usually don’t manually create tensors.\n",
    "Instead, models begin with random tensors that get updated as they learn from data.\n",
    "\n",
    "> Start with random numbers → Look at data → Update numbers → Repeat\n",
    "\n",
    "As a data scientist, you control:\n",
    "- Initialization (how the model starts),\n",
    "- Representation (how it processes data),\n",
    "- Optimization (how it updates).\n",
    "\n",
    "To create a random tensor in PyTorch, use:"
   ]
  },
  {
   "cell_type": "code",
   "execution_count": 316,
   "id": "6e07b249",
   "metadata": {},
   "outputs": [
    {
     "data": {
      "text/plain": [
       "(tensor([[0.1057, 0.1151, 0.8125, 0.5191],\n",
       "         [0.5090, 0.4442, 0.2110, 0.9835],\n",
       "         [0.2455, 0.6827, 0.3296, 0.1682]]),\n",
       " torch.float32)"
      ]
     },
     "execution_count": 316,
     "metadata": {},
     "output_type": "execute_result"
    }
   ],
   "source": [
    "# Create a random tensor of size (3, 4)\n",
    "random_tensor = torch.rand(size=(3, 4))\n",
    "random_tensor, random_tensor.dtype"
   ]
  },
  {
   "cell_type": "code",
   "execution_count": 317,
   "id": "e56920ff",
   "metadata": {},
   "outputs": [
    {
     "data": {
      "text/plain": [
       "(torch.Size([224, 224, 3]), 3)"
      ]
     },
     "execution_count": 317,
     "metadata": {},
     "output_type": "execute_result"
    }
   ],
   "source": [
    "# Create a random tensor of size (224, 224, 3)\n",
    "random_image_size_tensor = torch.rand(size=(224, 224, 3))\n",
    "random_image_size_tensor.shape, random_image_size_tensor.ndim"
   ]
  },
  {
   "cell_type": "markdown",
   "id": "76f5057f",
   "metadata": {},
   "source": [
    "### Zeros and ones tensors"
   ]
  },
  {
   "cell_type": "code",
   "execution_count": 318,
   "id": "690c2b0e",
   "metadata": {},
   "outputs": [
    {
     "data": {
      "text/plain": [
       "(tensor([[0., 0., 0., 0.],\n",
       "         [0., 0., 0., 0.],\n",
       "         [0., 0., 0., 0.]]),\n",
       " torch.float32)"
      ]
     },
     "execution_count": 318,
     "metadata": {},
     "output_type": "execute_result"
    }
   ],
   "source": [
    "# Create a tensor of all zeros\n",
    "zeros = torch.zeros(size=(3, 4))\n",
    "zeros, zeros.dtype"
   ]
  },
  {
   "cell_type": "code",
   "execution_count": 319,
   "id": "375463e8",
   "metadata": {},
   "outputs": [
    {
     "data": {
      "text/plain": [
       "(tensor([[1., 1., 1., 1.],\n",
       "         [1., 1., 1., 1.],\n",
       "         [1., 1., 1., 1.]]),\n",
       " torch.float32)"
      ]
     },
     "execution_count": 319,
     "metadata": {},
     "output_type": "execute_result"
    }
   ],
   "source": [
    "# Create a tensor of all ones\n",
    "ones = torch.ones(size=(3, 4))\n",
    "ones, ones.dtype"
   ]
  },
  {
   "cell_type": "markdown",
   "id": "2cd310e2",
   "metadata": {},
   "source": [
    "### Creating a range and tensors like"
   ]
  },
  {
   "cell_type": "code",
   "execution_count": 320,
   "id": "ceb93277",
   "metadata": {},
   "outputs": [
    {
     "data": {
      "text/plain": [
       "tensor([0, 1, 2, 3, 4, 5, 6, 7, 8, 9])"
      ]
     },
     "execution_count": 320,
     "metadata": {},
     "output_type": "execute_result"
    }
   ],
   "source": [
    "# Use torch.arange(), torch.range() is deprecated \n",
    "# Don't --> zero_to_ten_deprecated = torch.range(0, 10) # Note: this may return an error in the future\n",
    "\n",
    "# Create a range of values 0 to 10\n",
    "zero_to_ten = torch.arange(start=0, end=10, step=1)\n",
    "zero_to_ten"
   ]
  },
  {
   "cell_type": "code",
   "execution_count": 321,
   "id": "c6a237db",
   "metadata": {},
   "outputs": [
    {
     "data": {
      "text/plain": [
       "tensor([0, 0, 0, 0, 0, 0, 0, 0, 0, 0])"
      ]
     },
     "execution_count": 321,
     "metadata": {},
     "output_type": "execute_result"
    }
   ],
   "source": [
    "# Can also create a tensor of zeros similar to another tensor\n",
    "ten_zeros = torch.zeros_like(input=zero_to_ten) # will have same shape\n",
    "ten_zeros"
   ]
  },
  {
   "cell_type": "markdown",
   "id": "3d9a8156",
   "metadata": {},
   "source": [
    "### Tensor datatypes and device types\n",
    "\n",
    "PyTorch supports many tensor datatypes, useful for precision and performance control.\n",
    "- Common float types:\n",
    "    - torch.float32 (default): 32-bit float\n",
    "    - torch.float16 or torch.half: 16-bit (faster, less precise)\n",
    "    - torch.float64 or torch.double: 64-bit (more precise, slower)\n",
    "    - Integers: 8, 16, 32, or 64-bit (torch.int8, torch.int16, etc.)\n",
    "\n",
    "💡 Higher precision = more detail, slower\n",
    "\n",
    "💡 Lower precision = less detail, faster\n",
    "\n",
    "- Device types:\n",
    "\n",
    "    | Device        | Description                                  |\n",
    "    |---------------|----------------------------------------------|\n",
    "    | `'cpu'`       | Runs on the system’s processor (default)     |\n",
    "    | `'cuda'`      | Runs on an NVIDIA GPU using CUDA             |\n",
    "    | `'cuda:X'`    | Specific GPU (e.g. `'cuda:0'`, `'cuda:1'`)   |\n",
    "    | `'mps'`       | Apple Silicon (M1/M2) GPU support via Metal  |\n",
    "    | `'xla'`       | For TPUs (used in Google Cloud, via PyTorch/XLA) |\n",
    "\n",
    "\n"
   ]
  },
  {
   "cell_type": "markdown",
   "id": "cc0f520f",
   "metadata": {},
   "source": [
    "### Getting Info from Tensors\n",
    "\n",
    "After creating a tensor, you’ll often need to check:\n",
    "\n",
    "- **Shape** – What is the tensor’s size?\n",
    "- **Dtype** – What kind of data does it hold?\n",
    "- **Device** – Where is it stored? (CPU or GPU)"
   ]
  },
  {
   "cell_type": "code",
   "execution_count": 322,
   "id": "10a9034b",
   "metadata": {},
   "outputs": [
    {
     "name": "stdout",
     "output_type": "stream",
     "text": [
      "tensor([[0.1063, 0.8494, 0.1562, 0.8949],\n",
      "        [0.7252, 0.2058, 0.2487, 0.7838],\n",
      "        [0.2709, 0.9896, 0.4664, 0.8911]])\n",
      "Shape: torch.Size([3, 4])\n",
      "Dtype: torch.float32\n",
      "Device: cpu\n"
     ]
    }
   ],
   "source": [
    "some_tensor = torch.rand(3, 4)\n",
    "\n",
    "print(some_tensor)\n",
    "print(f\"Shape: {some_tensor.shape}\")\n",
    "print(f\"Dtype: {some_tensor.dtype}\")\n",
    "print(f\"Device: {some_tensor.device}\")"
   ]
  },
  {
   "cell_type": "markdown",
   "id": "8db170d1",
   "metadata": {},
   "source": [
    "### Tensor Operations in PyTorch\n",
    "\n",
    "In deep learning, data is represented as **tensors**. Models learn by applying many operations on them — like:\n",
    "\n",
    "- Addition (`+`)\n",
    "- Subtraction (`-`)\n",
    "- Multiplication (`*`)\n",
    "- Division (`/`)\n",
    "- Matrix multiplication (`@` or `torch.matmul()`)\n",
    "\n",
    "These basic operations are the building blocks of neural networks."
   ]
  },
  {
   "cell_type": "code",
   "execution_count": 323,
   "id": "a6481f16",
   "metadata": {},
   "outputs": [
    {
     "name": "stdout",
     "output_type": "stream",
     "text": [
      "tensor([11, 12, 13])\n",
      "tensor([10, 20, 30])\n",
      "tensor([1, 2, 3])\n",
      "tensor([-9, -8, -7])\n"
     ]
    },
    {
     "data": {
      "text/plain": [
       "tensor([-90, -80, -70])"
      ]
     },
     "execution_count": 323,
     "metadata": {},
     "output_type": "execute_result"
    }
   ],
   "source": [
    "tensor = torch.tensor([1, 2, 3])\n",
    "\n",
    "print(tensor + 10)       # tensor([11, 12, 13])\n",
    "print(tensor * 10)       # tensor([10, 20, 30])\n",
    "\n",
    "print(tensor)            # original tensor unchanged\n",
    "tensor = tensor - 10\n",
    "print(tensor)            # tensor([-9, -8, -7])\n",
    "\n",
    "# Using built-in functions\n",
    "torch.multiply(tensor, 10)"
   ]
  },
  {
   "cell_type": "markdown",
   "id": "5fbd54e2",
   "metadata": {},
   "source": [
    "### Element-wise vs Matrix Multiplication\n",
    "\n"
   ]
  },
  {
   "cell_type": "code",
   "execution_count": 324,
   "id": "ab6857f2",
   "metadata": {},
   "outputs": [
    {
     "name": "stdout",
     "output_type": "stream",
     "text": [
      "tensor([1, 4, 9])\n",
      "tensor(14)\n"
     ]
    },
    {
     "data": {
      "text/plain": [
       "tensor(14)"
      ]
     },
     "execution_count": 324,
     "metadata": {},
     "output_type": "execute_result"
    }
   ],
   "source": [
    "tensor = torch.tensor([1, 2, 3])\n",
    "\n",
    "# Element-wise\n",
    "print(tensor * tensor)                  # tensor([1, 4, 9])\n",
    "\n",
    "# Matrix multiplication (dot product)\n",
    "print(torch.matmul(tensor, tensor))     # tensor(14)\n",
    "tensor @ tensor                         # tensor(14)"
   ]
  },
  {
   "cell_type": "markdown",
   "id": "9b86e694",
   "metadata": {},
   "source": [
    "💡 Key rule: For matrix multiplication, inner dimensions must match.\n",
    "\n",
    "Example:\n",
    "- (2, 3) @ (3, 2) → ✅ results in (2, 2)\n",
    "- (3, 2) @ (3, 2) → ❌ invalid\n",
    "\n",
    "💡 Avoid manual loops for math operations — instead use `torch.matmul()` for speed and clarity."
   ]
  },
  {
   "cell_type": "markdown",
   "id": "cea4e9e2",
   "metadata": {},
   "source": [
    "### Tensor Aggregation (Min, Max, Mean, Sum)\n",
    "\n",
    "Aggregation reduces a tensor to fewer values."
   ]
  },
  {
   "cell_type": "code",
   "execution_count": 325,
   "id": "b07a1ba6",
   "metadata": {},
   "outputs": [
    {
     "name": "stdout",
     "output_type": "stream",
     "text": [
      "tensor(0)\n",
      "tensor(90)\n",
      "tensor(45.)\n"
     ]
    },
    {
     "data": {
      "text/plain": [
       "tensor(450)"
      ]
     },
     "execution_count": 325,
     "metadata": {},
     "output_type": "execute_result"
    }
   ],
   "source": [
    "x = torch.arange(0, 100, 10)\n",
    "# x = tensor([0, 10, 20, ..., 90])\n",
    "\n",
    "print(x.min())                          # tensor(0)\n",
    "print(x.max())                          # tensor(90)\n",
    "print(x.type(torch.float32).mean())     # tensor(45.)\n",
    "x.sum()                                 # tensor(450)"
   ]
  },
  {
   "cell_type": "markdown",
   "id": "be360b05",
   "metadata": {},
   "source": [
    "You can also use torch. methods:"
   ]
  },
  {
   "cell_type": "code",
   "execution_count": 326,
   "id": "5b8530dd",
   "metadata": {},
   "outputs": [
    {
     "data": {
      "text/plain": [
       "(tensor(0), tensor(90), tensor(45.), tensor(450))"
      ]
     },
     "execution_count": 326,
     "metadata": {},
     "output_type": "execute_result"
    }
   ],
   "source": [
    "torch.min(x), torch.max(x), torch.mean(x.float()), torch.sum(x)"
   ]
  },
  {
   "cell_type": "markdown",
   "id": "f8b9eef8",
   "metadata": {},
   "source": [
    "### Positional Min/Max\n",
    "\n",
    "To find the **index** of the highest or lowest value in a tensor, use:\n",
    "\n",
    "- `torch.argmax()` → index of max value  \n",
    "- `torch.argmin()` → index of min value\n",
    "\n",
    "💡 Useful when you care about position, not just the value (e.g., classification tasks)."
   ]
  },
  {
   "cell_type": "code",
   "execution_count": 327,
   "id": "ce124bcb",
   "metadata": {},
   "outputs": [
    {
     "name": "stdout",
     "output_type": "stream",
     "text": [
      "tensor(8)\n"
     ]
    },
    {
     "data": {
      "text/plain": [
       "tensor(0)"
      ]
     },
     "execution_count": 327,
     "metadata": {},
     "output_type": "execute_result"
    }
   ],
   "source": [
    "tensor = torch.arange(10, 100, 10)\n",
    "# tensor: [10, 20, ..., 90]\n",
    "\n",
    "print(tensor.argmax())      # 8\n",
    "tensor.argmin()             # 0"
   ]
  },
  {
   "cell_type": "markdown",
   "id": "57548c20",
   "metadata": {},
   "source": [
    "### Changing Tensor Datatype\n",
    "\n",
    "Tensors must have matching **dtypes** (e.g., `float32`, `float16`) for many operations.\n",
    "\n",
    "Use `.type(dtype)` to convert:"
   ]
  },
  {
   "cell_type": "code",
   "execution_count": 328,
   "id": "46dae326",
   "metadata": {},
   "outputs": [
    {
     "name": "stdout",
     "output_type": "stream",
     "text": [
      "torch.float32\n",
      "torch.float16\n",
      "torch.int8\n"
     ]
    }
   ],
   "source": [
    "tensor = torch.arange(10., 100., 10.)\n",
    "print(tensor.dtype)  # torch.float32 (default)\n",
    "\n",
    "# Convert to float16\n",
    "tensor_float16 = tensor.type(torch.float16)\n",
    "print(tensor_float16.dtype)\n",
    "\n",
    "# Convert to int8\n",
    "tensor_int8 = tensor.type(torch.int8)\n",
    "print(tensor_int8.dtype)"
   ]
  },
  {
   "cell_type": "markdown",
   "id": "49f0478a",
   "metadata": {},
   "source": [
    "### Reshaping & Dimension Operations\n",
    "\n",
    "Tensors often need reshaping for model compatibility. Common operations:\n",
    "\n",
    "| Method                  | Purpose                                      |\n",
    "|-------------------------|----------------------------------------------|\n",
    "| `reshape()`             | Change shape (creates copy)                  |\n",
    "| `view()`                | Change shape (shares data, view only)        |\n",
    "| `stack([t1, t2], dim)`  | Stack tensors along new dimension            |\n",
    "| `squeeze()`             | Remove dims with size 1                      |\n",
    "| `unsqueeze(dim)`        | Add a dim of size 1 at given position        |\n",
    "| `permute(dims)`         | Rearrange dimensions (changes view)"
   ]
  },
  {
   "cell_type": "code",
   "execution_count": 329,
   "id": "4c8ab324",
   "metadata": {},
   "outputs": [
    {
     "name": "stdout",
     "output_type": "stream",
     "text": [
      "torch.Size([7])\n",
      "torch.Size([1, 7])\n",
      "torch.Size([1, 7])\n",
      "torch.Size([4, 7])\n",
      "torch.Size([7])\n",
      "torch.Size([1, 7])\n",
      "torch.Size([224, 224, 3])\n",
      "torch.Size([3, 224, 224])\n"
     ]
    }
   ],
   "source": [
    "x = torch.arange(1., 8.)                    # Shape: [7]\n",
    "print(x.shape)\n",
    "x_reshaped = x.reshape(1, 7)                # Shape: [1, 7]\n",
    "print(x_reshaped.shape)\n",
    "x_view = x.view(1, 7)                       # Shares data with x\n",
    "print(x_view.shape)\n",
    "\n",
    "x_stack = torch.stack([x]*4)                # Shape: [4, 7]\n",
    "print(x_stack.shape)\n",
    "\n",
    "x_squeezed = x_reshaped.squeeze()           # Shape: [7]\n",
    "print(x_squeezed.shape)\n",
    "x_unsqueezed = x_squeezed.unsqueeze(0)      # Shape: [1, 7]\n",
    "print(x_unsqueezed.shape)\n",
    "\n",
    "x_img = torch.rand(224, 224, 3)\n",
    "print(x_img.shape)\n",
    "x_permuted = x_img.permute(2, 0, 1)         # Shape: [3, 224, 224]\n",
    "print(x_permuted.shape)"
   ]
  },
  {
   "cell_type": "markdown",
   "id": "b0ef1b88",
   "metadata": {},
   "source": [
    "### Indexing Tensors\n",
    "\n",
    "You can select specific parts of a tensor using indexing — similar to Python lists or NumPy arrays.\n"
   ]
  },
  {
   "cell_type": "code",
   "execution_count": 330,
   "id": "f4c061ab",
   "metadata": {},
   "outputs": [
    {
     "name": "stdout",
     "output_type": "stream",
     "text": [
      "tensor([[[1, 2, 3],\n",
      "         [4, 5, 6],\n",
      "         [7, 8, 9]]])\n",
      "----\n",
      "tensor([[1, 2, 3],\n",
      "        [4, 5, 6],\n",
      "        [7, 8, 9]])\n",
      "tensor([1, 2, 3])\n",
      "tensor(1)\n",
      "----\n",
      "tensor([[1, 2, 3]])\n",
      "tensor([[2, 5, 8]])\n",
      "tensor([5])\n",
      "tensor([1, 2, 3])\n"
     ]
    }
   ],
   "source": [
    "x = torch.arange(1, 10).reshape(1, 3, 3)\n",
    "print(x)\n",
    "print('----')\n",
    "\n",
    "# Shape: [1, 3, 3]\n",
    "# [[[1, 2, 3],\n",
    "#   [4, 5, 6],\n",
    "#   [7, 8, 9]]]\n",
    "\n",
    "print(x[0])         # -> 2D slice\n",
    "print(x[0][0])      # -> 1D row\n",
    "print(x[0][0][0])   # -> scalar (1)\n",
    "print('----')\n",
    "\n",
    "# Using colons (:) for slicing:\n",
    "print(x[:, 0])      # -> first row of each batch\n",
    "print(x[:, :, 1])   # -> second column\n",
    "print(x[:, 1, 1])   # -> center element\n",
    "print(x[0, 0, :])   # -> first row"
   ]
  },
  {
   "cell_type": "markdown",
   "id": "da454602",
   "metadata": {},
   "source": [
    "### PyTorch Tensors & NumPy\n",
    "\n",
    "PyTorch and NumPy interoperate easily:\n",
    "\n",
    "| Conversion                   | Description                     |\n",
    "|------------------------------|---------------------------------|\n",
    "| `torch.from_numpy(ndarray)` | NumPy → PyTorch tensor          |\n",
    "| `tensor.numpy()`             | PyTorch tensor → NumPy array    |"
   ]
  },
  {
   "cell_type": "code",
   "execution_count": 331,
   "id": "3de65f8f",
   "metadata": {},
   "outputs": [
    {
     "name": "stdout",
     "output_type": "stream",
     "text": [
      "[1. 2. 3. 4. 5. 6. 7.]\n",
      "tensor([1., 2., 3., 4., 5., 6., 7.], dtype=torch.float64)\n",
      "----\n",
      "tensor([1., 2., 3., 4., 5., 6., 7.]) torch.float32\n",
      "----\n",
      "[2. 3. 4. 5. 6. 7. 8.]\n",
      "----\n",
      "tensor([1., 1., 1., 1., 1., 1., 1.]) torch.float32\n",
      "[1. 1. 1. 1. 1. 1. 1.] float32\n",
      "----\n",
      "tensor([2., 2., 2., 2., 2., 2., 2.]) torch.float32\n"
     ]
    }
   ],
   "source": [
    "import numpy as np\n",
    "import torch\n",
    "\n",
    "# NumPy → PyTorch\n",
    "array = np.arange(1.0, 8.0)\n",
    "print(array)\n",
    "tensor = torch.from_numpy(array)\n",
    "print(tensor)\n",
    "print('----')\n",
    "\n",
    "# Convert dtype to float32 (optional)\n",
    "tensor = tensor.type(torch.float32)\n",
    "print(tensor, tensor.dtype)\n",
    "print('----')\n",
    "\n",
    "# Changing array doesn't affect tensor\n",
    "array += 1\n",
    "print(array)\n",
    "print('----')\n",
    "\n",
    "# PyTorch → NumPy\n",
    "tensor = torch.ones(7)                  # float32 by default\n",
    "print(tensor, tensor.dtype)\n",
    "numpy_tensor = tensor.numpy()\n",
    "print(numpy_tensor, numpy_tensor.dtype)\n",
    "print('----')\n",
    "\n",
    "# Changing tensor doesn’t affect numpy_tensor\n",
    "tensor += 1\n",
    "print(tensor, tensor.dtype)"
   ]
  },
  {
   "cell_type": "markdown",
   "id": "0e994b64",
   "metadata": {},
   "source": [
    "### Reproducibility in PyTorch\n",
    "\n",
    "Neural networks use **random numbers** (e.g., for weight initialization).  \n",
    "To make results **repeatable**, we use **random seeds**.\n",
    "\n",
    "#### Why it matters:\n",
    "- Ensures consistent results across runs\n",
    "- Helps others reproduce your experiments\n",
    "\n",
    "💡 Always reset the seed before each new random call if you want identical results.\n",
    "\n",
    "#### Without Seed:"
   ]
  },
  {
   "cell_type": "code",
   "execution_count": 332,
   "id": "4ee25a4c",
   "metadata": {},
   "outputs": [
    {
     "data": {
      "text/plain": [
       "tensor([[False, False, False, False],\n",
       "        [False, False, False, False],\n",
       "        [False, False, False, False]])"
      ]
     },
     "execution_count": 332,
     "metadata": {},
     "output_type": "execute_result"
    }
   ],
   "source": [
    "a = torch.rand(3, 4)\n",
    "b = torch.rand(3, 4)\n",
    "a == b  # False — different values"
   ]
  },
  {
   "cell_type": "markdown",
   "id": "952f0bd2",
   "metadata": {},
   "source": [
    "#### With Seed:"
   ]
  },
  {
   "cell_type": "code",
   "execution_count": 333,
   "id": "e563e075",
   "metadata": {},
   "outputs": [
    {
     "data": {
      "text/plain": [
       "tensor([[True, True, True, True],\n",
       "        [True, True, True, True],\n",
       "        [True, True, True, True]])"
      ]
     },
     "execution_count": 333,
     "metadata": {},
     "output_type": "execute_result"
    }
   ],
   "source": [
    "torch.manual_seed(42)\n",
    "c = torch.rand(3, 4)\n",
    "\n",
    "torch.manual_seed(42)\n",
    "d = torch.rand(3, 4)\n",
    "\n",
    "c == d  # True — same values"
   ]
  },
  {
   "cell_type": "markdown",
   "id": "ae328c95",
   "metadata": {},
   "source": [
    "### PyTorch Devices: CPU, CUDA, MPS\n",
    "\n",
    "PyTorch can run on different hardware:\n",
    "\n",
    "| Device | Description                              |\n",
    "|--------|------------------------------------------|\n",
    "| `cpu`  | Default processor (always available)     |\n",
    "| `cuda` | NVIDIA GPU (uses CUDA toolkit)           |\n",
    "| `mps`  | Apple Silicon GPU (M1/M2, via Metal)     |\n",
    "\n",
    "Using a GPU can **greatly speed up** training and computation.\n",
    "\n",
    "#### Auto-Select the Best Available Device:"
   ]
  },
  {
   "cell_type": "code",
   "execution_count": 335,
   "id": "5852e774",
   "metadata": {},
   "outputs": [
    {
     "name": "stdout",
     "output_type": "stream",
     "text": [
      "Using device: mps\n"
     ]
    }
   ],
   "source": [
    "if torch.cuda.is_available():\n",
    "    device = \"cuda\"  # NVIDIA GPU\n",
    "elif torch.backends.mps.is_available():\n",
    "    device = \"mps\"   # Apple GPU\n",
    "else:\n",
    "    device = \"cpu\"   # Fallback\n",
    "\n",
    "print(f\"Using device: {device}\")\n",
    "\n",
    "# Move tensors/models to the selected device\n",
    "tensor = torch.tensor([1.0, 2.0]).to(device)"
   ]
  }
 ],
 "metadata": {
  "kernelspec": {
   "display_name": "Python 3",
   "language": "python",
   "name": "python3"
  },
  "language_info": {
   "codemirror_mode": {
    "name": "ipython",
    "version": 3
   },
   "file_extension": ".py",
   "mimetype": "text/x-python",
   "name": "python",
   "nbconvert_exporter": "python",
   "pygments_lexer": "ipython3",
   "version": "3.9.6"
  }
 },
 "nbformat": 4,
 "nbformat_minor": 5
}
