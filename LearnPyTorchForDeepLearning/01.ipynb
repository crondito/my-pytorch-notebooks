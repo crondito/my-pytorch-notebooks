{
 "cells": [
  {
   "cell_type": "markdown",
   "id": "1602a793",
   "metadata": {},
   "source": [
    "# 01. PyTorch Workflow Fundamentals"
   ]
  },
  {
   "cell_type": "code",
   "execution_count": 67,
   "id": "18db9d53",
   "metadata": {},
   "outputs": [
    {
     "data": {
      "text/plain": [
       "'2.7.1'"
      ]
     },
     "execution_count": 67,
     "metadata": {},
     "output_type": "execute_result"
    }
   ],
   "source": [
    "import torch\n",
    "from torch import nn                # nn contains all of PyTorch's building blocks for neural networks\n",
    "import matplotlib.pyplot as plt     # for plotting data\n",
    "\n",
    "torch.__version__                   # check PyTorch version"
   ]
  },
  {
   "cell_type": "code",
   "execution_count": 68,
   "id": "e54786b3",
   "metadata": {},
   "outputs": [],
   "source": [
    "what_we_are_covering = {\n",
    "    1: \"data (prepare and load)\",\n",
    "    2: \"build model\",\n",
    "    3: \"fitting the model to data (training)\",\n",
    "    4: \"making predictions and evaluating a model (inference)\",\n",
    "    5: \"saving and loading a model\",\n",
    "    6: \"putting it all together\"\n",
    "}"
   ]
  },
  {
   "cell_type": "markdown",
   "id": "10025889",
   "metadata": {},
   "source": [
    "## 1. Data: Preparing & Loading\n",
    "\n",
    "In machine learning, **data can be anything**: numbers, images, text, audio, etc.\n",
    "\n",
    "ML is about:\n",
    "1. Turning data into numbers (representations)\n",
    "2. Training models to learn those representations\n",
    "\n",
    "### Create Sample Data:"
   ]
  },
  {
   "cell_type": "code",
   "execution_count": 69,
   "id": "b938ff39",
   "metadata": {},
   "outputs": [],
   "source": [
    "weight = 0.7        # Weight of the linear function\n",
    "bias = 0.3          # Bias of the linear function\n",
    "\n",
    "# Create input and output tensors\n",
    "X = torch.arange(0, 1, 0.02).unsqueeze(1)\n",
    "y = weight * X + bias       # y = mx + b (we are using a linear function here, its what the model will learn)"
   ]
  },
  {
   "cell_type": "markdown",
   "id": "30e2e9c0",
   "metadata": {},
   "source": [
    "> `torch.arange(0, 1, 0.02)` Creates evenly spaced input values from 0 to just under 1, like [0.00, 0.02, 0.04, ..., 0.98]\n",
    "\n",
    "> `.unsqueeze(1)` Changes shape from (N,) to (N, 1) → required for matrix-based models.\n",
    "\n",
    "> `y = weight * X + bias` Generates the corresponding output values using the linear equation.\n",
    "\n",
    "\n",
    "Why we do this?:\n",
    "- To simulate realistic data with known parameters.\n",
    "- So we can train a model and test whether it can learn to recover weight = 0.7 and bias = 0.3 using gradient descent."
   ]
  },
  {
   "cell_type": "markdown",
   "id": "173e9d42",
   "metadata": {},
   "source": [
    "### Train/Test Split\n",
    "\n",
    "Split data so the model can learn on one part and be evaluated on another:\n",
    "\n",
    "| Split | Purpose | Typical Size|\n",
    "|-------|---------|-------------|\n",
    "| Train | Model learns here | ~80% |\n",
    "| Test  | Model is evaluated here | ~20% |"
   ]
  },
  {
   "cell_type": "code",
   "execution_count": 70,
   "id": "acbc2c05",
   "metadata": {},
   "outputs": [],
   "source": [
    "train_split = int(0.8 * len(X))\n",
    "X_train, y_train = X[:train_split], y[:train_split]\n",
    "X_test, y_test = X[train_split:], y[train_split:]"
   ]
  },
  {
   "cell_type": "markdown",
   "id": "7213d265",
   "metadata": {},
   "source": [
    "The model we create is going to try and learn the relationship between `X_train` & `y_train` and then we will evaluate what it learns on `X_test` and `y_test`."
   ]
  },
  {
   "cell_type": "markdown",
   "id": "aed5c40d",
   "metadata": {},
   "source": [
    "### Visualize the Data\n",
    "\n",
    "Plot training and test data:"
   ]
  },
  {
   "cell_type": "code",
   "execution_count": 71,
   "id": "d6631f07",
   "metadata": {},
   "outputs": [
    {
     "data": {
      "image/png": "[encoded data removed]",
      "text/plain": [
       "<Figure size 1000x700 with 1 Axes>"
      ]
     },
     "metadata": {},
     "output_type": "display_data"
    }
   ],
   "source": [
    "def plot_predictions(train_data, train_labels, test_data, test_labels, predictions=None):\n",
    "    plt.figure(figsize=(10, 7))\n",
    "    plt.scatter(train_data, train_labels, c=\"b\", s=4, label=\"Train\")\n",
    "    plt.scatter(test_data, test_labels, c=\"g\", s=4, label=\"Test\")\n",
    "    if predictions is not None:\n",
    "        plt.scatter(test_data, predictions, c=\"r\", s=4, label=\"Predictions\")\n",
    "    plt.legend()\n",
    "\n",
    "plot_predictions(X_train, y_train, X_test, y_test)"
   ]
  },
  {
   "cell_type": "markdown",
   "id": "d438a8f7",
   "metadata": {},
   "source": [
    "## 2. Build a Linear Model\n",
    "\n",
    "We’ll build a simple **linear regression model** using PyTorch to learn from our synthetic data.\n",
    "\n",
    "### Define the Model:"
   ]
  },
  {
   "cell_type": "code",
   "execution_count": 72,
   "id": "74437c4e",
   "metadata": {},
   "outputs": [],
   "source": [
    "import torch.nn as nn\n",
    "\n",
    "class LinearRegressionModel(nn.Module):\n",
    "    def __init__(self):\n",
    "        super().__init__()\n",
    "        \n",
    "        self.weights = nn.Parameter(torch.randn(1, dtype=torch.float32, requires_grad=True))\n",
    "        self.bias = nn.Parameter(torch.randn(1, dtype=torch.float32, requires_grad=True))\n",
    "\n",
    "    def forward(self, x: torch.Tensor) -> torch.Tensor:\n",
    "        return self.weights * x + self.bias  # y = w*x + b"
   ]
  },
  {
   "cell_type": "markdown",
   "id": "8de74fc2",
   "metadata": {},
   "source": [
    "<img src=\"imgs/PyTorch-model-building-blocks.png\" alt=\"Tensor visualization\" width=\"800\"/>\n",
    "\n",
    "### PyTorch Core Modules\n",
    "\n",
    "| Module | Purpose |\n",
    "| --- | --- |\n",
    "| torch.nn | Contains all of the building blocks for computational graphs (essentially a series of computations executed in a particular way).|\n",
    "| nn.Parameter | Stores tensors that can be used with `nn.Module`. If `requires_grad=True` gradients (used for updating model parameters via gradient descent) are calculated automatically, this is often referred to as \"autograd\". |\n",
    "| nn.Module | The base class for all neural network modules, all the building blocks for neural networks are subclasses. If you're building a neural network in PyTorch, your models should subclass `nn.Module`. Requires a `forward()` method be implemented. |\n",
    "| torch.optim | Contains various optimization algorithms (these tell the model parameters stored in `nn.Parameter` how to best change to improve gradient descent and in turn reduce the loss). |\n",
    "| def forward() | All `nn.Module` subclasses require a `forward()` method, this defines the computation that will take place on the data passed to the particular `nn.Module` (e.g. the linear regression formula above). | \n",
    "\n",
    "### Checking the contents of a PyTorch model"
   ]
  },
  {
   "cell_type": "code",
   "execution_count": 74,
   "id": "be423630",
   "metadata": {},
   "outputs": [
    {
     "data": {
      "text/plain": [
       "[Parameter containing:\n",
       " tensor([0.3367], requires_grad=True),\n",
       " Parameter containing:\n",
       " tensor([0.1288], requires_grad=True)]"
      ]
     },
     "execution_count": 74,
     "metadata": {},
     "output_type": "execute_result"
    }
   ],
   "source": [
    "# Set manual seed since nn.Parameter are randomly initialized\n",
    "torch.manual_seed(42)\n",
    "\n",
    "# Create an instance of the model (this is a subclass of nn.Module that contains nn.Parameter(s))\n",
    "model_0 = LinearRegressionModel()\n",
    "\n",
    "# Check the nn.Parameter(s) within the nn.Module subclass we created\n",
    "list(model_0.parameters())"
   ]
  },
  {
   "cell_type": "code",
   "execution_count": 75,
   "id": "e1642f3a",
   "metadata": {},
   "outputs": [
    {
     "data": {
      "text/plain": [
       "OrderedDict([('weights', tensor([0.3367])), ('bias', tensor([0.1288]))])"
      ]
     },
     "execution_count": 75,
     "metadata": {},
     "output_type": "execute_result"
    }
   ],
   "source": [
    "# List named parameters \n",
    "model_0.state_dict()"
   ]
  },
  {
   "cell_type": "markdown",
   "id": "056d1cc2",
   "metadata": {},
   "source": [
    "### Make Predictions (Before Training)\n",
    "\n",
    "Use `torch.inference_mode()` to make predictions without tracking gradients (faster and cleaner for inference):"
   ]
  }
 ],
 "metadata": {
  "kernelspec": {
   "display_name": "Python 3",
   "language": "python",
   "name": "python3"
  },
  "language_info": {
   "codemirror_mode": {
    "name": "ipython",
    "version": 3
   },
   "file_extension": ".py",
   "mimetype": "text/x-python",
   "name": "python",
   "nbconvert_exporter": "python",
   "pygments_lexer": "ipython3",
   "version": "3.9.6"
  }
 },
 "nbformat": 4,
 "nbformat_minor": 5
}
