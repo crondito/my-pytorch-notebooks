{
 "cells": [
  {
   "cell_type": "markdown",
   "id": "13d84506",
   "metadata": {},
   "source": [
    "# Exercises for 00.ipynb"
   ]
  },
  {
   "cell_type": "markdown",
   "id": "3b593176",
   "metadata": {},
   "source": [
    "#### 0. Setup"
   ]
  },
  {
   "cell_type": "code",
   "execution_count": 54,
   "id": "a32f0da5",
   "metadata": {},
   "outputs": [
    {
     "name": "stdout",
     "output_type": "stream",
     "text": [
      "Using device: mps\n"
     ]
    }
   ],
   "source": [
    "import torch\n",
    "\n",
    "if torch.cuda.is_available():\n",
    "    device = \"cuda\"  # NVIDIA GPU\n",
    "elif torch.backends.mps.is_available():\n",
    "    device = \"mps\"   # Apple GPU\n",
    "else:\n",
    "    device = \"cpu\"   # Fallback\n",
    "\n",
    "print(f\"Using device: {device}\")"
   ]
  },
  {
   "cell_type": "markdown",
   "id": "a74cd9bd",
   "metadata": {},
   "source": [
    "#### 1. Create a random tensor with shape `(7, 7)`."
   ]
  },
  {
   "cell_type": "code",
   "execution_count": 55,
   "id": "be0ff480",
   "metadata": {},
   "outputs": [
    {
     "data": {
      "text/plain": [
       "(tensor([[0.8549, 0.5509, 0.2868, 0.2063, 0.4451, 0.3593, 0.7204],\n",
       "         [0.0731, 0.9699, 0.1078, 0.8829, 0.4132, 0.7572, 0.6948],\n",
       "         [0.5209, 0.5932, 0.8797, 0.6286, 0.7653, 0.1132, 0.8559],\n",
       "         [0.6721, 0.6267, 0.5691, 0.7437, 0.9592, 0.3887, 0.2214],\n",
       "         [0.3742, 0.1953, 0.7405, 0.2529, 0.2332, 0.9314, 0.9575],\n",
       "         [0.5575, 0.4134, 0.4355, 0.7369, 0.0331, 0.0914, 0.8994],\n",
       "         [0.9936, 0.4703, 0.1049, 0.5137, 0.2674, 0.4990, 0.7447]]),\n",
       " torch.Size([7, 7]))"
      ]
     },
     "execution_count": 55,
     "metadata": {},
     "output_type": "execute_result"
    }
   ],
   "source": [
    "random_tensor = torch.rand(size=(7, 7))\n",
    "random_tensor, random_tensor.shape"
   ]
  },
  {
   "cell_type": "markdown",
   "id": "a46e33b0",
   "metadata": {},
   "source": [
    "#### 2. Perform a matrix multiplication on the tensor from 1 with another random tensor with shape `(1, 7)` (hint: you may have to transpose the second tensor)."
   ]
  },
  {
   "cell_type": "code",
   "execution_count": 56,
   "id": "0aae4ab3",
   "metadata": {},
   "outputs": [
    {
     "name": "stdout",
     "output_type": "stream",
     "text": [
      "tensor([[0.7213, 0.4414, 0.5550, 0.6361, 0.1081, 0.3305, 0.5196]]) torch.Size([1, 7])\n"
     ]
    },
    {
     "data": {
      "text/plain": [
       "(tensor([[1.6914],\n",
       "         [1.7581],\n",
       "         [2.0906],\n",
       "         [1.8975],\n",
       "         [1.7585],\n",
       "         [1.7961],\n",
       "         [1.8900]]),\n",
       " torch.Size([7, 1]))"
      ]
     },
     "execution_count": 56,
     "metadata": {},
     "output_type": "execute_result"
    }
   ],
   "source": [
    "random_tensor2 = torch.rand(size=(1, 7))\n",
    "print(random_tensor2, random_tensor2.shape)\n",
    "random_tensor2_T = random_tensor2.T\n",
    "\n",
    "\n",
    "matrix_mult = torch.matmul(random_tensor, random_tensor2_T)\n",
    "matrix_mult, matrix_mult.shape"
   ]
  },
  {
   "cell_type": "markdown",
   "id": "3aa00213",
   "metadata": {},
   "source": [
    "#### 3. Set the random seed to 0 and do exercises 1 & 2 over again."
   ]
  },
  {
   "cell_type": "code",
   "execution_count": 57,
   "id": "bb9d28ee",
   "metadata": {},
   "outputs": [
    {
     "name": "stdout",
     "output_type": "stream",
     "text": [
      "Matrix multiplication result:\n",
      " tensor([[1.8542],\n",
      "        [1.9611],\n",
      "        [2.2884],\n",
      "        [3.0481],\n",
      "        [1.7067],\n",
      "        [2.5290],\n",
      "        [1.7989]]) torch.Size([7, 1])\n"
     ]
    }
   ],
   "source": [
    "torch.manual_seed(0)\n",
    "\n",
    "rand_tensor1 = torch.rand(size=(7, 7))\n",
    "rand_tensor2 = torch.rand(size=(1, 7))\n",
    "matrix_mult2 = torch.matmul(rand_tensor1, rand_tensor2.T)\n",
    "print(\"Matrix multiplication result:\\n\", matrix_mult2, matrix_mult2.shape)\n"
   ]
  },
  {
   "cell_type": "markdown",
   "id": "90b6c60c",
   "metadata": {},
   "source": [
    "#### 4. Speaking of random seeds, we saw how to set it with `torch.manual_seed()` but is there a GPU equivalent? (hint: you'll need to look into the documentation for `torch.cuda` for this one). If there is, set the GPU random seed to `1234`."
   ]
  },
  {
   "cell_type": "code",
   "execution_count": 58,
   "id": "6f111558",
   "metadata": {},
   "outputs": [],
   "source": [
    "seed = 1234\n",
    "torch.manual_seed(seed)\n",
    "\n",
    "if torch.cuda.is_available():\n",
    "    torch.cuda.manual_seed(seed)"
   ]
  },
  {
   "cell_type": "markdown",
   "id": "53337255",
   "metadata": {},
   "source": [
    "#### 5. Create two random tensors of shape `(2, 3)` and send them both to the GPU (you'll need access to a GPU for this). Set `torch.manual_seed(1234)` when creating the tensors (this doesn't have to be the GPU random seed)."
   ]
  },
  {
   "cell_type": "code",
   "execution_count": 59,
   "id": "8ecd7949",
   "metadata": {},
   "outputs": [
    {
     "name": "stdout",
     "output_type": "stream",
     "text": [
      "Tensor1 device: mps:0\n",
      "Tensor2 device: mps:0\n"
     ]
    }
   ],
   "source": [
    "tensor1 = torch.rand(size=(2, 3))\n",
    "tensor2 = torch.rand(size=(2, 3))\n",
    "\n",
    "tensor1 = tensor1.to(device)\n",
    "tensor2 = tensor2.to(device)\n",
    "\n",
    "print(\"Tensor1 device:\", tensor1.device)\n",
    "print(\"Tensor2 device:\", tensor2.device)"
   ]
  },
  {
   "cell_type": "markdown",
   "id": "03631e17",
   "metadata": {},
   "source": [
    "#### 6. Perform a matrix multiplication on the tensors you created in 5 (again, you may have to adjust the shapes of one of the tensors)."
   ]
  },
  {
   "cell_type": "code",
   "execution_count": 60,
   "id": "34e2f815",
   "metadata": {},
   "outputs": [
    {
     "name": "stdout",
     "output_type": "stream",
     "text": [
      "Tensors multiplication result:\n",
      " tensor([[0.3647, 0.4709],\n",
      "        [0.5184, 0.5617]], device='mps:0')\n"
     ]
    }
   ],
   "source": [
    "tensors_mult = torch.matmul(tensor1, tensor2.T)\n",
    "print(\"Tensors multiplication result:\\n\", tensors_mult)"
   ]
  },
  {
   "cell_type": "markdown",
   "id": "18cd9e76",
   "metadata": {},
   "source": [
    "#### 7. Find the maximum and minimum values of the output of 6."
   ]
  },
  {
   "cell_type": "code",
   "execution_count": 61,
   "id": "78544983",
   "metadata": {},
   "outputs": [
    {
     "name": "stdout",
     "output_type": "stream",
     "text": [
      "tensor(0.3647, device='mps:0')\n",
      "tensor(0, device='mps:0')\n"
     ]
    }
   ],
   "source": [
    "print(tensors_mult.min())\n",
    "print(tensors_mult.argmin())"
   ]
  },
  {
   "cell_type": "markdown",
   "id": "75ac18a5",
   "metadata": {},
   "source": [
    "#### 8. Find the maximum and minimum index values of the output of 6."
   ]
  },
  {
   "cell_type": "code",
   "execution_count": 62,
   "id": "1268565f",
   "metadata": {},
   "outputs": [
    {
     "name": "stdout",
     "output_type": "stream",
     "text": [
      "tensor(0.5617, device='mps:0')\n",
      "tensor(3, device='mps:0')\n"
     ]
    }
   ],
   "source": [
    "print(tensors_mult.max())\n",
    "print(tensors_mult.argmax())"
   ]
  },
  {
   "cell_type": "markdown",
   "id": "e3b13834",
   "metadata": {},
   "source": [
    "#### 10. Make a random tensor with shape `(1, 1, 1, 10)` and then create a new tensor with all the `1` dimensions removed to be left with a tensor of shape `(10)`. Set the seed to `7` when you create it and print out the first tensor and it's shape as well as the second tensor and it's shape."
   ]
  },
  {
   "cell_type": "code",
   "execution_count": 64,
   "id": "f80d23eb",
   "metadata": {},
   "outputs": [
    {
     "name": "stdout",
     "output_type": "stream",
     "text": [
      "tensor([[[[0.5349, 0.1988, 0.6592, 0.6569, 0.2328, 0.4251, 0.2071, 0.6297,\n",
      "           0.3653, 0.8513]]]]) torch.Size([1, 1, 1, 10])\n",
      "tensor([0.5349, 0.1988, 0.6592, 0.6569, 0.2328, 0.4251, 0.2071, 0.6297, 0.3653,\n",
      "        0.8513]) torch.Size([10])\n"
     ]
    }
   ],
   "source": [
    "torch.manual_seed(7)\n",
    "torch.cuda.manual_seed(7)\n",
    "\n",
    "new_tensor = torch.rand(size=(1, 1, 1, 10))\n",
    "print(new_tensor, new_tensor.shape)\n",
    "\n",
    "new_tensor_squeezed = new_tensor.squeeze()\n",
    "print(new_tensor_squeezed, new_tensor_squeezed.shape)"
   ]
  }
 ],
 "metadata": {
  "kernelspec": {
   "display_name": "Python 3",
   "language": "python",
   "name": "python3"
  },
  "language_info": {
   "codemirror_mode": {
    "name": "ipython",
    "version": 3
   },
   "file_extension": ".py",
   "mimetype": "text/x-python",
   "name": "python",
   "nbconvert_exporter": "python",
   "pygments_lexer": "ipython3",
   "version": "3.9.6"
  }
 },
 "nbformat": 4,
 "nbformat_minor": 5
}
